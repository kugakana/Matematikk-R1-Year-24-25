{
 "cells": [
  {
   "cell_type": "code",
   "execution_count": null,
   "id": "2bb0f4c7-0c43-4b9f-bebb-e9e4e2a292d1",
   "metadata": {},
   "outputs": [],
   "source": []
  },
  {
   "cell_type": "code",
   "execution_count": 3,
   "id": "64e60bc2-f383-4614-8d22-5cc7a9b64cf7",
   "metadata": {},
   "outputs": [
    {
     "name": "stdout",
     "output_type": "stream",
     "text": [
      "\n",
      "w = [0.6 0.8]\n",
      "\n"
     ]
    },
    {
     "data": {
      "image/png": "[encoded data removed]",
      "text/plain": [
       "<Figure size 432x288 with 1 Axes>"
      ]
     },
     "metadata": {
      "needs_background": "light"
     },
     "output_type": "display_data"
    }
   ],
   "source": [
    "from matplotlib.pyplot import*\n",
    "from numpy import*\n",
    "\n",
    "# Vektor opprinnelse plassering \n",
    "X = [0] \n",
    "Y = [0] \n",
    "\n",
    "# Lag en posisjonsvektor og enhetsvektor\n",
    "u = array([3,4])                                 # Posisjonsvektor\n",
    "lengde = sqrt(u[0]**2 + u[1]**2)                 # Lengden av vektor u\n",
    "w = u/lengde                                     # Enhetsvektor\n",
    "\n",
    "# Skriv enhetsvektoren w i konsollen\n",
    "print()\n",
    "print(f'w = {w}')\n",
    "print()\n",
    "\n",
    "# Lag plottet\n",
    "fig, ax = subplots()\n",
    "\n",
    "# Legg til vektoren u og w til plottet\n",
    "ax.quiver(X, Y, u[0], u[1], angles='xy', scale_units='xy', scale=1, color='g')\n",
    "ax.quiver(X, Y, w[0], w[1], angles='xy', scale_units='xy', scale=1, color='r')\n",
    "title('Enhetsvektor')\n",
    "\n",
    "# Angi x-grenser og y-grenser for plottet\n",
    "ax.set_xlim([-1, 4])\n",
    "ax.set_ylim([-1, 5])\n",
    "\n",
    "# Tegn x-aksen og y-aksen\n",
    "axhline(color = 'black')\n",
    "axvline(color = 'black')\n",
    "\n",
    "# Vis plottet sammen med rutenettet\n",
    "grid()\n",
    "show()"
   ]
  }
 ],
 "metadata": {
  "kernelspec": {
   "display_name": "Python 3 (ipykernel)",
   "language": "python",
   "name": "python3"
  },
  "language_info": {
   "codemirror_mode": {
    "name": "ipython",
    "version": 3
   },
   "file_extension": ".py",
   "mimetype": "text/x-python",
   "name": "python",
   "nbconvert_exporter": "python",
   "pygments_lexer": "ipython3",
   "version": "3.9.7"
  }
 },
 "nbformat": 4,
 "nbformat_minor": 5
}
