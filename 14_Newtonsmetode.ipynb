{
 "cells": [
  {
   "cell_type": "markdown",
   "id": "f4f1f374-298d-44e2-9d5d-237d978d8700",
   "metadata": {},
   "source": [
    "### Newton-Raphson metode\n",
    "\n",
    "Funksjonen $f$ er gitt ved $f( x ) = 3 x^2 − 10 − e^{-x}$ . Lag et program som ved hjelp av Newtons metode finner en tilnærmet verdi for nullpunktet med fire desimalers nøyaktighet. "
   ]
  },
  {
   "cell_type": "markdown",
   "id": "fd9e544e-c63e-456a-a641-1d93262c00de",
   "metadata": {},
   "source": [
    "<img width=\"450\" height=\"450\" src=\"bilde_09_newton.png\">"
   ]
  },
  {
   "cell_type": "markdown",
   "id": "3d21d06b-922b-4bd8-aed2-4c7a6ac9f9f5",
   "metadata": {},
   "source": [
    "Velg $x_0$ i nærheten av nullpunktet. Regn deretter ut $ x_1, x_2 , x_3 , … $ ved hjelp av formelen \n",
    "\n",
    "$$ x_{n + 1} = x_n -  \\frac{f(x_n)}{f'(x_n)} $$\n",
    "\n",
    "hvor\n",
    "\n",
    "$$ f'(x) = \\lim_{h \\to 0}\\frac{f(x + h) - f(x)}{h} , \\,\\,\\,  h = \\Delta x$$"
   ]
  },
  {
   "cell_type": "markdown",
   "id": "fc5a3179-6eec-487d-9869-f944d14f9d57",
   "metadata": {},
   "source": [
    "##### <span style = 'color:blue'> Grafen til funksjonen </span>"
   ]
  },
  {
   "cell_type": "code",
   "execution_count": 1,
   "id": "0300a730-1fc7-40be-a0d2-396ba995a055",
   "metadata": {},
   "outputs": [
    {
     "data": {
      "image/png": "[encoded data removed]",
      "text/plain": [
       "<Figure size 504x360 with 1 Axes>"
      ]
     },
     "metadata": {
      "needs_background": "light"
     },
     "output_type": "display_data"
    }
   ],
   "source": [
    "# Importerer de nødvendige bibliotekene\n",
    "import numpy as np                        # Kan skrive \"from numpy import*\"\n",
    "import pylab as pl                        # Kan skrive \"from numpy import*\"\n",
    "\n",
    "# Definer funksjonen  \n",
    "def f(x):\n",
    "    return 3*x**2 - 10 - np.exp(-x)\n",
    "\n",
    "# Sett øvre og nedere grense for x og antall grid punkter\n",
    "x = np.linspace(-5, 7, 100)\n",
    "\n",
    "# Tegn grafen til f(x)\n",
    "\n",
    "fig = pl.subplots(figsize=(7, 5))               # Figurstørelse\n",
    "pl.plot(x, f(x), color = \"b\" , label = 'f(x)')  # Tegn grafen\n",
    "pl.ylim(-20, 40)                                # Grenseverdier til y-aksen\n",
    "pl.axhline(y = 0, color = \"k\")                  # Tegn x-aksen\n",
    "pl.axvline(x = 0, color = \"k\")                  # Tegn y-aksen\n",
    "pl.xlabel(\"x\")\n",
    "pl.ylabel(\"y\")\n",
    "pl.legend(loc='upper right')                    # Graf-etiketten \n",
    "pl.grid()\n",
    "pl.show()"
   ]
  },
  {
   "cell_type": "markdown",
   "id": "3b1ac813-9033-42f9-b241-8c6afe7e56f3",
   "metadata": {},
   "source": [
    "#### <span style = 'color:blue'> Metode 1 </span>"
   ]
  },
  {
   "cell_type": "code",
   "execution_count": 1,
   "id": "d0e090b2-ff86-4b8c-92ac-b136121251b4",
   "metadata": {},
   "outputs": [
    {
     "name": "stdin",
     "output_type": "stream",
     "text": [
      "Skriv inn en x-verdi nær nullpunktet:  2.5\n"
     ]
    },
    {
     "name": "stdout",
     "output_type": "stream",
     "text": [
      "\n",
      "Et bedre forslag er gitt ved x = 1.925285164708914\n",
      "Et bedre forslag er gitt ved x = 1.841991423894228\n",
      "Et bedre forslag er gitt ved x = 1.840180997354381\n",
      "Et bedre forslag er gitt ved x = 1.840180137891803\n",
      "Et bedre forslag er gitt ved x = 1.840180137889369\n",
      "\n",
      "Med x = 1.8401801378893694, er f(x) = -0.00000\n",
      "\n",
      "Nullpukt = (1.84 , 0)\n"
     ]
    }
   ],
   "source": [
    "# Velger første x-verdi nær nullpunktet\n",
    "\n",
    "x0 = float(input(\"Skriv inn en x-verdi nær nullpunktet: \"))\n",
    "print()\n",
    "\n",
    "# Definer funksjonen  \n",
    "import numpy as np\n",
    "\n",
    "def f(x):\n",
    "    return 3*x**2 - 10 - np.exp(-x)\n",
    "\n",
    "# Definer førstederiverte funksjon fra definisjon av deriverte\n",
    "\n",
    "h = 0.00001\n",
    "def df(x):\n",
    "    return (f(x + h) - f(x)) / h\n",
    "\n",
    "# Skriver Newton-Raphson tilnærming\n",
    "\n",
    "for i in range(5):\n",
    "    x1 = x0 - f(x0)/df(x0)\n",
    "    print(f'Et bedre forslag er gitt ved x = {x1:.16}')\n",
    "    x0 = x1\n",
    "    \n",
    "print()\n",
    "print(f'Med x = {x0}, er f(x) = {f(x0):.5f}')\n",
    "print()\n",
    "print(f'Nullpunkt = ({x0:.3} , 0)')"
   ]
  },
  {
   "cell_type": "markdown",
   "id": "6706e4b1-dfbb-4a3b-9564-78eb752f341c",
   "metadata": {},
   "source": [
    "#### <span style = 'color:blue'> Metode 2 </span>"
   ]
  },
  {
   "cell_type": "code",
   "execution_count": 4,
   "id": "01d2c602-f5d1-4a2b-bb6b-b74527e20935",
   "metadata": {
    "tags": []
   },
   "outputs": [
    {
     "name": "stdout",
     "output_type": "stream",
     "text": [
      "\n",
      "Tilnærming x-verdi for nullpunktet = 1.8401801382779672\n",
      "\n",
      "Nullpunkt = (1.84 , 0)\n"
     ]
    }
   ],
   "source": [
    "# Definer funksjonen  \n",
    "import numpy as np\n",
    "\n",
    "def f(x):\n",
    "    return 3*x**2 - 10 - np.exp(-x)\n",
    "\n",
    "# Definer førstederiverte funksjon fra definisjon av deriverte\n",
    "h = 0.00001                           # Delta x for derivasjon\n",
    "def df(x):\n",
    "    return (f(x + h) - f(x)) / h      # Første deriverte\n",
    "\n",
    "# Skriver Newton-Raphson tilnærming\n",
    "def newton(f, df , x0):\n",
    "    if abs(f(x0)) < 0.000001:\n",
    "        return x0\n",
    "    else:\n",
    "        x1 = x0 - f(x0)/df(x0)       # Newton-Raphson formel\n",
    "        return newton(f, df, x1)\n",
    "\n",
    "x0 = 3                               # Første tilnærmet verdi for nullpunkt\n",
    "x_estimert = newton(f, df, x0)       # Tilnærmet x-verdi for nullpunkt           \n",
    "\n",
    "print()\n",
    "print(f'Tilnærming x-verdi for nullpunktet = {x_estimert}')\n",
    "print()\n",
    "print(f'Nullpunkt = ({x_estimert:.3} , 0)')"
   ]
  },
  {
   "cell_type": "markdown",
   "id": "81cb1ea1-f523-46ee-a393-73f38c922f25",
   "metadata": {},
   "source": [
    "#### <span style = 'color:blue'> Metode 3 </span>"
   ]
  },
  {
   "cell_type": "code",
   "execution_count": 3,
   "id": "2c73b669-7f6d-4a3f-863e-f5e9b84aab96",
   "metadata": {},
   "outputs": [
    {
     "name": "stdout",
     "output_type": "stream",
     "text": [
      "\n",
      "Tilnærming x-verdi for nullpunktet = 1.84018013788956\n",
      "\n",
      "Nullpunkt = (1.84 , 0)\n"
     ]
    }
   ],
   "source": [
    "# Definer funksjonen  \n",
    "import numpy as np\n",
    "def f(x):\n",
    "    return 3*x**2 - 10 - np.exp(-x)\n",
    "\n",
    "# Definer eksakt førstederiverte funksjon\n",
    "def df(x):\n",
    "    return 6*x + np.exp(-x)\n",
    "\n",
    "# Skriver Newton-Raphson tilnærming\n",
    "def newton(f, df , x0):\n",
    "    if abs(f(x0)) < 0.000001:\n",
    "        return x0\n",
    "    else:\n",
    "        x1 = x0 - f(x0)/df(x0)\n",
    "        return newton(f, df, x1)\n",
    "\n",
    "x_estimert = newton(f, df, 2.5)\n",
    "print()\n",
    "print(f'Tilnærming x-verdi for nullpunktet = {x_estimert}')\n",
    "print()\n",
    "print(f'Nullpunkt = ({x_estimert:.3} , 0)')"
   ]
  },
  {
   "cell_type": "code",
   "execution_count": 2,
   "id": "b6fe509b-f9b8-4f13-8fb3-ef74a23fea52",
   "metadata": {},
   "outputs": [
    {
     "name": "stdout",
     "output_type": "stream",
     "text": [
      "x = (1.73 , 0)\n"
     ]
    }
   ],
   "source": [
    "def f(x):\n",
    "    return x**2 - 3\n",
    "\n",
    "def df(x):\n",
    "    return 2*x\n",
    "\n",
    "x0 = 3\n",
    "tol = 0.0001\n",
    "\n",
    "def N(x0):\n",
    "    if abs(f(x0)) < tol:\n",
    "        return x0\n",
    "    else:\n",
    "        x1 = x0 - f(x0)/df(x0)\n",
    "        return N(x1)\n",
    "\n",
    "x_estimert = N(x0)\n",
    "\n",
    "print(f'x = ({x_estimert:.3} , 0)')"
   ]
  }
 ],
 "metadata": {
  "kernelspec": {
   "display_name": "Python 3 (ipykernel)",
   "language": "python",
   "name": "python3"
  },
  "language_info": {
   "codemirror_mode": {
    "name": "ipython",
    "version": 3
   },
   "file_extension": ".py",
   "mimetype": "text/x-python",
   "name": "python",
   "nbconvert_exporter": "python",
   "pygments_lexer": "ipython3",
   "version": "3.9.7"
  }
 },
 "nbformat": 4,
 "nbformat_minor": 5
}
