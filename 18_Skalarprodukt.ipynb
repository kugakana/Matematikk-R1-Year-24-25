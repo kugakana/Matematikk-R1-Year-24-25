{
 "cells": [
  {
   "cell_type": "code",
   "execution_count": null,
   "id": "6526c5d5-d526-4aab-b361-2bcb2076d779",
   "metadata": {},
   "outputs": [],
   "source": []
  },
  {
   "cell_type": "code",
   "execution_count": 1,
   "id": "b1e1bb76-4495-4034-bd7c-d13ebd9eac11",
   "metadata": {},
   "outputs": [
    {
     "name": "stdin",
     "output_type": "stream",
     "text": [
      "Skriv verdiene: 3 4 2 -5\n"
     ]
    },
    {
     "name": "stdout",
     "output_type": "stream",
     "text": [
      "\n",
      "u = [3 4] og v = [ 2 -5]\n",
      "\n",
      "Skalarprodukt (metode 1) = -14 \n",
      "\n",
      "Skalarprodukt (metode 2) = -14 \n",
      "\n",
      "Vinkel mellom vektorene er 121.33 grader\n"
     ]
    }
   ],
   "source": [
    "# Importerer biblioteket numpy\n",
    "import numpy as np\n",
    "\n",
    "# Skriv verdiene for vektor koordinater\n",
    "x1 , y1  , x2 , y2 = [int(x) for x in input(\"Skriv verdiene:\").split()]\n",
    "print()\n",
    "\n",
    "# Definere vektorkoordinater\n",
    "u = np.array([x1 , y1])\n",
    "v = np.array([x2 , y2])\n",
    "\n",
    "# Definere lengden av vektorer\n",
    "lenu = np.sqrt(x1**2 + y1**2)\n",
    "lenv = np.sqrt(x2**2 + y2**2)\n",
    "\n",
    "# Regn ut skalarprodukt\n",
    "skalarprodukt = np.dot(u , v)                       # Metode 1, bruker numpy\n",
    "skalarprodukt_formel = x1*x2 + y1*y2                # Metode 2, bruker formel\n",
    "\n",
    "# Regn ut vinkel mellom vektorer\n",
    "cos_vinkel = skalarprodukt_formel/(lenu*lenv)\n",
    "vinkel = np.degrees(np.arccos(cos_vinkel))\n",
    "\n",
    "# Skriv svar i konsollen\n",
    "print(f'u = {u} og v = {v}')\n",
    "print()\n",
    "print(f'Skalarprodukt (metode 1) = {skalarprodukt} ')\n",
    "print()\n",
    "print(f'Skalarprodukt (metode 2) = {skalarprodukt_formel} ')\n",
    "print()\n",
    "print(f'Vinkel mellom vektorene er {vinkel:.2f} grader')"
   ]
  },
  {
   "cell_type": "code",
   "execution_count": null,
   "id": "33a9366f-049a-47ce-bc79-856e0874f419",
   "metadata": {},
   "outputs": [],
   "source": []
  },
  {
   "cell_type": "code",
   "execution_count": 7,
   "id": "99987b4e-69f9-468a-a6b2-c9c08e8d8f5a",
   "metadata": {},
   "outputs": [
    {
     "name": "stdout",
     "output_type": "stream",
     "text": [
      "\n",
      "Skalarprodukt = 0\n",
      "\n",
      "u og v er orthogonale\n"
     ]
    }
   ],
   "source": [
    "# Importerer biblioteket numpy\n",
    "import numpy as np\n",
    "\n",
    "# Definere vektorkoordinater og regn ut skalarprodukt\n",
    "u = np.array([3 , 4])\n",
    "v = np.array([4 , -3])\n",
    "skalarprodukt = np.dot(u , v)\n",
    "\n",
    "print()\n",
    "print(f'Skalarprodukt = {skalarprodukt}')\n",
    "print()\n",
    "\n",
    "# Avgjøre om de vektorene ortogonale eller ikke\n",
    "if skalarprodukt == 0:\n",
    "    print('u og v er orthogonale')\n",
    "elif skalarprodukt > 0:\n",
    "    print('Vinkel mellom u og v er spiss')\n",
    "else:\n",
    "    print('Vinkel mellom u og v er stump')"
   ]
  }
 ],
 "metadata": {
  "kernelspec": {
   "display_name": "Python 3 (ipykernel)",
   "language": "python",
   "name": "python3"
  },
  "language_info": {
   "codemirror_mode": {
    "name": "ipython",
    "version": 3
   },
   "file_extension": ".py",
   "mimetype": "text/x-python",
   "name": "python",
   "nbconvert_exporter": "python",
   "pygments_lexer": "ipython3",
   "version": "3.9.7"
  }
 },
 "nbformat": 4,
 "nbformat_minor": 5
}
