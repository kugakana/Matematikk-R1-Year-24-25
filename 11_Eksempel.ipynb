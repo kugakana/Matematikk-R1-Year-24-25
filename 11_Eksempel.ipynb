{
 "cells": [
  {
   "cell_type": "markdown",
   "metadata": {},
   "source": [
    "#### Eksempel: Verditabell for den deriverte\n",
    "\n",
    "La $f$ være funksjonen gitt ved $f(x)  =  x^4  -  4x^2$  . Skriv et program som finner tilnærmingsverdier for den deriverte $f'(x)$ når $x  ∈  [2  ,5]$   med steg lengde 0,5 . "
   ]
  },
  {
   "cell_type": "code",
   "execution_count": 1,
   "metadata": {},
   "outputs": [
    {
     "name": "stdout",
     "output_type": "stream",
     "text": [
      " x       f'(x)\n",
      "----------------\n",
      "2.00     16.00\n",
      "2.50     42.50\n",
      "3.00     84.00\n",
      "3.50     143.50\n",
      "4.00     224.00\n",
      "4.50     328.50\n",
      "5.00     460.00\n"
     ]
    }
   ],
   "source": [
    "# Definer funksjonsuttrykket \n",
    "def f(x):\n",
    "    return x**4 - 4*x**2\n",
    "\n",
    "# Definer tilnærmingsverdi funksjon for den deriverte \n",
    "def df(x):\n",
    "    h = 0.001\n",
    "    return (f(x + h)  - f(x - h))/(2*h)\n",
    "\n",
    "# Definerer definisjonsmengde og steglengde til funksjonen\n",
    "xstart = 2\n",
    "xslutt = 5\n",
    "xsteg = 0.5\n",
    "\n",
    "# Lager en verditabell\n",
    "print(\" x       f'(x)\")\n",
    "print(f'----------------')\n",
    "\n",
    "x = xstart\n",
    "while x <= xslutt:\n",
    "    print(f'{x:.2f}     {df(x):.2f}')\n",
    "    x = x + xsteg"
   ]
  },
  {
   "cell_type": "markdown",
   "metadata": {},
   "source": [
    "#### Eksempel:  Årlig avkastning\n",
    "\n",
    "Hilde setter 60 000 kr på en konto med fast rente 6% per år. Lag et program som avgjør hvor lang tid det tar før den årlige avkastningen er på mer enn 5000 kr."
   ]
  },
  {
   "cell_type": "code",
   "execution_count": 2,
   "metadata": {},
   "outputs": [
    {
     "name": "stdout",
     "output_type": "stream",
     "text": [
      "\n",
      "Årlig avkastning er større enn 5000 kr når x > 6.15 år\n"
     ]
    }
   ],
   "source": [
    "# Definer funksjonsuttrykket\n",
    "def V(x):\n",
    "    return 60000*1.06**x\n",
    "\n",
    "# Definer tilnærmingsverdi funksjon for den deriverte (Avkastningsfunksjon) \n",
    "def dV(x):\n",
    "    h = 0.0001\n",
    "    return (V(x + h)  - V(x - h))/(2*h)\n",
    "\n",
    "# Bestem når avkastning er mer enn 5000 kr\n",
    "i = 0\n",
    "trinn = 0.01\n",
    "while dV(i) < 5000:\n",
    "    i = i + trinn\n",
    "    \n",
    "print()\n",
    "print(f'Årlig avkastning er større enn 5000 kr når x > {i:.2f} år')\n"
   ]
  }
 ],
 "metadata": {
  "kernelspec": {
   "display_name": "Python 3 (ipykernel)",
   "language": "python",
   "name": "python3"
  },
  "language_info": {
   "codemirror_mode": {
    "name": "ipython",
    "version": 3
   },
   "file_extension": ".py",
   "mimetype": "text/x-python",
   "name": "python",
   "nbconvert_exporter": "python",
   "pygments_lexer": "ipython3",
   "version": "3.9.7"
  }
 },
 "nbformat": 4,
 "nbformat_minor": 4
}
