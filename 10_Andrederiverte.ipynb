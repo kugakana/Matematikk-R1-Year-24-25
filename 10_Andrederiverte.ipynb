{
 "cells": [
  {
   "cell_type": "markdown",
   "id": "2be8d534-43d3-410e-964f-10459de2362a",
   "metadata": {},
   "source": [
    "#### <span style = 'color:brown'> Forward difference formula for førstederivert og andrederivert (Newtons kvotient) </span>\n",
    "\n",
    "$$ f'(x) = \\lim_{h \\to 0}\\frac{f(x + h) - f(x)}{h} $$\n",
    "\n",
    "\n",
    "\n",
    "$$ f''(x) = \\lim_{h \\to 0}\\frac{f(x + 2h) - 2 \\cdot f(x + h) + f(x)}{h^2} $$"
   ]
  },
  {
   "cell_type": "markdown",
   "id": "0a907702-bf32-49a6-90b7-3ab8e11c4b9a",
   "metadata": {},
   "source": [
    "#### Eksempel:\n",
    "\n",
    "Lag et Python-program som definerer funksjonen \n",
    "$f(x)=  x^3  -  4x^2$.   \n",
    "Be brukeren om en x-verdi og regn ut en tilnærmingsverdi for den deriverte i denne x-verdien. Skriv ut resultatet med t0 desimaler."
   ]
  },
  {
   "cell_type": "code",
   "execution_count": 3,
   "id": "16ec8d67-6998-40df-86f2-7e2ae1ee2457",
   "metadata": {},
   "outputs": [
    {
     "name": "stdin",
     "output_type": "stream",
     "text": [
      "Skriv inn x-verdi: a = 3\n"
     ]
    },
    {
     "name": "stdout",
     "output_type": "stream",
     "text": [
      "\n",
      "a \t\t FDF approximation\n",
      "----------- \t ----------------\n",
      "3.10000 \t 10.60000\n",
      "3.01000 \t 10.06000\n",
      "3.00100 \t 10.00600\n",
      "3.00010 \t 10.00060\n",
      "\n",
      "f''(a) = 10.00\n"
     ]
    }
   ],
   "source": [
    "### Definer funksjonsuttrykket \n",
    "def f(x):\n",
    "    return x**3 - 4*x**2\n",
    "\n",
    "a = float(input('Skriv inn x-verdi: a ='))         # Be om x-verdi\n",
    "print()\n",
    "h = 0.1                                            # Definer endring i x-verdi\n",
    "\n",
    "print('a' , '\\t\\t' , 'FDF approximation')\n",
    "print('-----------' , '\\t' , '----------------')\n",
    "\n",
    "while h > 0.00001:\n",
    "    FDF2 = (f(a + 2*h) - 2*f(a + h) + f(a))/(h*h)   # Formel til andrederivert\n",
    "    print(format(a + h ,\".5f\") , '\\t' , format(FDF2 ,\".5f\"))\n",
    "    h = h/10\n",
    "\n",
    "print()\n",
    "print(f\"f''(a) = {FDF2:.2f}\")"
   ]
  }
 ],
 "metadata": {
  "kernelspec": {
   "display_name": "Python 3 (ipykernel)",
   "language": "python",
   "name": "python3"
  },
  "language_info": {
   "codemirror_mode": {
    "name": "ipython",
    "version": 3
   },
   "file_extension": ".py",
   "mimetype": "text/x-python",
   "name": "python",
   "nbconvert_exporter": "python",
   "pygments_lexer": "ipython3",
   "version": "3.9.7"
  }
 },
 "nbformat": 4,
 "nbformat_minor": 5
}
