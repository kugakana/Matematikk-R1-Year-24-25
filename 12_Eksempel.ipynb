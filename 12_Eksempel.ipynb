{
 "cells": [
  {
   "cell_type": "markdown",
   "id": "8194d09d-ce9b-4d16-94a7-83d6ffb96b6a",
   "metadata": {},
   "source": [
    "#### Optimering 01 \n",
    "\n",
    "Vi tar for oss en rett sylinder med radius $r$  og høyde $h$ . Vi kaller volumet $V$  og overflaten medregnet toppflate og bunnflate for $S$ . \n",
    "\n",
    "Vi har da formlene: $V = \\pi r^2 h \\;$ og $\\; S = 2 \\pi r^2 + 2 \\pi r h$    \n"
   ]
  },
  {
   "cell_type": "markdown",
   "id": "8c274973-ae28-4789-b0ee-0bbe15379243",
   "metadata": {},
   "source": [
    "<img width=\"250\" height=\"250\" src=\"bilde_07_optimering.png\">"
   ]
  },
  {
   "cell_type": "markdown",
   "id": "17ced438-ed52-45ef-bf68-369333cc88f8",
   "metadata": {},
   "source": [
    "En vanntank har form som en rett sylinder med radius $x$ dm og høyde $h$ dm. Volumet av \n",
    "tanken er $500 \\;dm^3$ . \n",
    "\n",
    "<ol>\n",
    "<li> Bruk CAS og vis at overflaten $S(x)$  av vanntanken er gitt ved: \n",
    "\n",
    "$$ S(x) = \\frac{2 \\pi x^3 + 1000}{x} $$ </li>\n",
    "\n",
    "<li> Skriv et program som finner tilnærmingsverdier for den minste radiusen til sylinderen og den minste overflaten</li>\n",
    "</ol>"
   ]
  },
  {
   "cell_type": "code",
   "execution_count": 1,
   "id": "47fa029d-b960-4b7e-b3c4-681faad67a92",
   "metadata": {},
   "outputs": [
    {
     "name": "stdout",
     "output_type": "stream",
     "text": [
      "\n",
      "Radius for minste overflaten = 4.3 dm\n",
      "Minsteareal til overflaten = 348.73 dm^2\n"
     ]
    }
   ],
   "source": [
    "from numpy import*\n",
    "# Definerer formelen til overflaten\n",
    "def s(x):\n",
    "    return (2*pi*x**3 + 1000)/x\n",
    "\n",
    "x0 = 0.2                        # Start verdi for radius\n",
    "h = 0.001                       # Endring i x verdi\n",
    "\n",
    "while s(x0 + h) - s(x0) <= 0:   # Bestem radiusen for minste areal ved derivasjon\n",
    "    x0 = x0 + h\n",
    "\n",
    "x_min = round(x0 , 2)\n",
    "s_min = round(s(x0) , 2)\n",
    "print()\n",
    "print(f'Radius for minste overflaten = {x_min} dm')\n",
    "print(f'Minsteareal til overflaten = {s_min} dm^2')"
   ]
  },
  {
   "cell_type": "markdown",
   "id": "3a771923-d8d5-4d45-b765-0cd3cb169174",
   "metadata": {},
   "source": [
    "#### Optimering 02\n",
    "\n",
    "Av en rektangelformet papplate på 48 cm $\\cdot$ 30 cm skal Stian lage en eske uten lokk ved å klippe bort kvadrater fra hjørnene og deretter brette opp. Siden i kvadratene er $x$ cm\n"
   ]
  },
  {
   "cell_type": "markdown",
   "id": "1753f135-d358-4ddc-a6b4-755b2e0e61c6",
   "metadata": {},
   "source": [
    "<img width=\"550\" height=\"350\" src=\"bilde_08_optimering.png\">"
   ]
  },
  {
   "cell_type": "markdown",
   "id": "2c3d880f-fe52-4315-94be-14251db86684",
   "metadata": {},
   "source": [
    "<ol>\n",
    "<li> Vis at volumet målt i $cm^3$ av esken er gitt ved $ V(x) = 4 x^3 - 156 x^2 + 1440 x$ \n",
    "<li> Bruk numerisk derivasjon til å finne det største volumet esken kan få \n",
    "<ol>   "
   ]
  },
  {
   "cell_type": "code",
   "execution_count": 2,
   "id": "7adedfa7-9fba-4d1f-9bdc-50f3beb7c808",
   "metadata": {},
   "outputs": [
    {
     "name": "stdout",
     "output_type": "stream",
     "text": [
      "\n",
      "Største volumet til esken = 3888.0 cm^2\n"
     ]
    }
   ],
   "source": [
    "from numpy import*\n",
    "# Definerer formelen til overflaten\n",
    "def v(x):\n",
    "    return 4*x**3 - 156*x**2 + 1440*x\n",
    "\n",
    "x0 = 0.2                        # Start verdi for radius\n",
    "h = 0.001                       # Endring i x verdi\n",
    "\n",
    "while v(x0 + h) - v(x0) >= 0:   # Bestem høyden for største volum ved derivasjon\n",
    "    x0 = x0 + h\n",
    "\n",
    "x_max = round(x0 , 2)\n",
    "v_max = round(v(x0) , 2)\n",
    "print()\n",
    "print(f'Største volumet til esken = {v_max} cm^2')"
   ]
  }
 ],
 "metadata": {
  "kernelspec": {
   "display_name": "Python 3 (ipykernel)",
   "language": "python",
   "name": "python3"
  },
  "language_info": {
   "codemirror_mode": {
    "name": "ipython",
    "version": 3
   },
   "file_extension": ".py",
   "mimetype": "text/x-python",
   "name": "python",
   "nbconvert_exporter": "python",
   "pygments_lexer": "ipython3",
   "version": "3.9.7"
  }
 },
 "nbformat": 4,
 "nbformat_minor": 5
}
