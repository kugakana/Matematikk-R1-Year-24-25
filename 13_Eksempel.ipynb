{
 "cells": [
  {
   "cell_type": "markdown",
   "id": "28f8a0b8-6683-4d25-a74a-ab1ff1ae4e6f",
   "metadata": {},
   "source": [
    "### Nullpunkter , Ekstremalpunkter og Vendepunkter\n",
    "\n",
    "En funksjon $f$ er gitt ved $ f(x) =  e^x (x - 3) + 1 $.\n",
    "\n",
    "<ol>\n",
    "<li> Tegn grafen til funksjonen  $ f(x) $ i interval $ [-3 , 3]$ </li>\n",
    "<li> Bruk en numerisk metode med startverdi -3 til å finne en tilnærmet verdi for:</li>\n",
    "<ul>\n",
    "<li> Nullpunkt</li>\n",
    "<li> Ekstremalpunkt</li>\n",
    "<li> Vendepunkt</li>"
   ]
  },
  {
   "cell_type": "markdown",
   "id": "f55f2608-10dc-42f2-80fc-24e3bdcd782d",
   "metadata": {},
   "source": [
    "##### <span style = 'color:blue'> Bibliotek </span>\n",
    "\n",
    "<li> <span style = 'color:green'> numpy , pylab </span> </li> \n",
    "\n",
    "##### <span style = 'color:blue'> Funksjon </span>\n",
    "<li> Syntaks:  <span style = 'color:green'> def - return </span> </li> \n",
    "\n",
    "##### <span style = 'color:blue'> Euler tall </span>\n",
    "\n",
    "<li> Syntaks: <span style = 'color:green'> exp( ) </span> </li> "
   ]
  },
  {
   "cell_type": "markdown",
   "id": "3864f349-35fd-4529-aa8b-d9ef58e1436f",
   "metadata": {},
   "source": [
    "##### <span style = 'color:brown'> Forward difference formula for førstederivert og andrederivert (Newtons kvotient) </span>\n",
    "\n",
    "$$ f'(x) = \\lim_{h \\to 0}\\frac{f(x + h) - f(x)}{h} $$\n",
    "\n",
    "$$ f''(x) = \\lim_{h \\to 0}\\frac{f(x + 2h) - 2 \\cdot f(x + h) + f(x)}{h} $$"
   ]
  },
  {
   "cell_type": "markdown",
   "id": "65c48ef6-5ca6-4056-8191-70d056edff1d",
   "metadata": {},
   "source": [
    "#### Grafene til funksjon , førstederivert og andrederivert funksjoner"
   ]
  },
  {
   "cell_type": "code",
   "execution_count": 6,
   "id": "08226f8e-be22-4d18-9596-e9f599e52d6e",
   "metadata": {},
   "outputs": [
    {
     "data": {
      "image/png": "[encoded data removed]",
      "text/plain": [
       "<Figure size 576x432 with 1 Axes>"
      ]
     },
     "metadata": {
      "needs_background": "light"
     },
     "output_type": "display_data"
    }
   ],
   "source": [
    "# importerer de nødvendige bibliotekene\n",
    "import numpy as np                         \n",
    "import pylab as pl                         \n",
    "\n",
    "# Definer funksjonen  \n",
    "def f(x):\n",
    "    return np.exp(x)*(x - 3) + 1\n",
    "\n",
    "# Sett øvre og nedere grense for x og antall grid punkter\n",
    "xstart = -3                               # Nedere grense\n",
    "xslutt = 3                                # Øvre grense\n",
    "x = np.linspace(xstart , xslutt , 100)    # Antall grid punkter er 100\n",
    "\n",
    "# Tegn grafen til f(x) , d1f(x) og d2f(x)\n",
    "fig = pl.subplots(figsize=(8, 6))         # Figurstørelse\n",
    "pl.plot(x,f(x) , label = 'f(x)')          # Tegn f(x)\n",
    "pl.ylim(-10 , 10)                         # Grenseverdier til y-aksen\n",
    "pl.legend(loc='upper left')               # Graf-etiketten\n",
    "\n",
    "# Tegn x-aksen og y-aksen\n",
    "pl.axhline(color = 'red')\n",
    "pl.axvline(color = 'red')\n",
    "\n",
    "# Gi navn til aksene og merk x og y akser\n",
    "pl.xlabel('x')\n",
    "pl.ylabel('y' , rotation = 0)\n",
    "pl.show()"
   ]
  },
  {
   "cell_type": "code",
   "execution_count": 1,
   "id": "0e73285b-b294-4900-ac5d-75207d03acc1",
   "metadata": {},
   "outputs": [],
   "source": [
    "# importerer de nødvendige bibliotekene\n",
    "import numpy as np                                                 \n",
    "\n",
    "# Definer funksjonen  \n",
    "def f(x):\n",
    "    return np.exp(x)*(x - 3) + 1\n",
    "\n",
    "h = 0.00001\n",
    "\n",
    "# Definer uttrykket til førstederivert\n",
    "def d1f(x):\n",
    "    return (f(x + h) - f(x))/(h)\n",
    "\n",
    "# Definer uttrykket til andrederivert\n",
    "def d2f(x):\n",
    "    return (f(x + 2*h) - 2*f(x + h) + f(x))/(h**2)"
   ]
  },
  {
   "cell_type": "markdown",
   "id": "1ed2bca0-8ae7-4a04-9ccf-7a067d7e6ebe",
   "metadata": {},
   "source": [
    "#### Nullpunkter"
   ]
  },
  {
   "cell_type": "code",
   "execution_count": 2,
   "id": "9e7c9732-da49-44db-82d7-6018686fd681",
   "metadata": {},
   "outputs": [
    {
     "name": "stdout",
     "output_type": "stream",
     "text": [
      "Nullpunkt: (-1.51 , 0.00)\n",
      "Nullpunkt: (2.95 , -0.00)\n"
     ]
    }
   ],
   "source": [
    "x = -3\n",
    "dx = 0.0001\n",
    "\n",
    "while x < 3:\n",
    "    if f(x+dx)*f(x) < 0:\n",
    "        print(f'Nullpunkt: ({x:.2f} , {f(x):.2f})')\n",
    "    x = x + dx"
   ]
  },
  {
   "cell_type": "markdown",
   "id": "4cd5a59c-8296-4591-bf51-67e0ae089d98",
   "metadata": {},
   "source": [
    "#### Ekstremalpunkter"
   ]
  },
  {
   "cell_type": "code",
   "execution_count": 3,
   "id": "c676759f-eefe-42d2-8430-47ca2e29e847",
   "metadata": {},
   "outputs": [
    {
     "name": "stdout",
     "output_type": "stream",
     "text": [
      "Bunnpunkt: (2.00 , -6.39)\n"
     ]
    }
   ],
   "source": [
    "x = -3\n",
    "dx = 0.0001\n",
    "\n",
    "while x < 3:\n",
    "    if d1f(x+dx)*d1f(x) < 0:\n",
    "        if d2f(x) < 0:\n",
    "            print(f'Toppunkt: ({x:.2f} , {f(x):.2f}')\n",
    "        else:\n",
    "            print(f'Bunnpunkt: ({x:.2f} , {f(x):.2f})')\n",
    "    x = x + dx"
   ]
  },
  {
   "cell_type": "markdown",
   "id": "21da5fbe-ebc6-47bb-ac40-2db0d2b2e7d0",
   "metadata": {},
   "source": [
    "#### Vendepunkter"
   ]
  },
  {
   "cell_type": "code",
   "execution_count": 4,
   "id": "5df235c8-9171-4cd9-80ae-ff4c124fb5db",
   "metadata": {},
   "outputs": [
    {
     "name": "stdout",
     "output_type": "stream",
     "text": [
      "Vendepunkt: (1.00 , -4.44)\n"
     ]
    }
   ],
   "source": [
    "x = -3\n",
    "dx = 0.0001\n",
    "\n",
    "while x < 3:\n",
    "    if d2f(x+dx)*d2f(x) < 0:\n",
    "        print(f'Vendepunkt: ({x:.2f} , {f(x):.2f})')\n",
    "    x = x + dx"
   ]
  }
 ],
 "metadata": {
  "kernelspec": {
   "display_name": "Python 3 (ipykernel)",
   "language": "python",
   "name": "python3"
  },
  "language_info": {
   "codemirror_mode": {
    "name": "ipython",
    "version": 3
   },
   "file_extension": ".py",
   "mimetype": "text/x-python",
   "name": "python",
   "nbconvert_exporter": "python",
   "pygments_lexer": "ipython3",
   "version": "3.9.7"
  }
 },
 "nbformat": 4,
 "nbformat_minor": 5
}
